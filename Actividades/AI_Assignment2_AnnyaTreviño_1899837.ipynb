{
  "nbformat": 4,
  "nbformat_minor": 0,
  "metadata": {
    "colab": {
      "provenance": [],
      "collapsed_sections": []
    },
    "kernelspec": {
      "name": "python3",
      "display_name": "Python 3"
    },
    "language_info": {
      "name": "python"
    }
  },
  "cells": [
    {
      "cell_type": "markdown",
      "source": [
        "#**Activity 2: Python exercises**\n",
        "\n",
        "Name: Annya Michelle Treviño Mendiola\n",
        "\n",
        "ID 1899837\n",
        "\n",
        "Class: IA Tuesday N4"
      ],
      "metadata": {
        "id": "UpIBA7P9JUXr"
      }
    },
    {
      "cell_type": "markdown",
      "source": [
        "#Code 1\n"
      ],
      "metadata": {
        "id": "_2zFxQxgOjot"
      }
    },
    {
      "cell_type": "code",
      "source": [
        "name = input('Name: ');\n",
        "if name in['Ana','John','Peter']:\n",
        "  print('Will not greet') \n",
        "else: \n",
        "  print(\"Hello \" + name) "
      ],
      "metadata": {
        "colab": {
          "base_uri": "https://localhost:8080/"
        },
        "id": "fEWYM5IaPwKs",
        "outputId": "32efcd50-2665-4c80-c313-4d80f1e506ca"
      },
      "execution_count": 4,
      "outputs": [
        {
          "output_type": "stream",
          "name": "stdout",
          "text": [
            "Name: Annya\n",
            "Hello Annya\n"
          ]
        }
      ]
    },
    {
      "cell_type": "markdown",
      "source": [
        "#Code 2"
      ],
      "metadata": {
        "id": "lGKGzcLjX8VW"
      }
    },
    {
      "cell_type": "code",
      "source": [
        "list = ['red', 'yellow', 'green', 'blue', 'pink' ];\n",
        "print(list[4]);\n",
        "list.reverse();\n",
        "print(\"Reversed list: \" , list);"
      ],
      "metadata": {
        "colab": {
          "base_uri": "https://localhost:8080/"
        },
        "id": "v8lpgmMyX-6R",
        "outputId": "387738e5-a529-4548-a320-589a87b0dac9"
      },
      "execution_count": 5,
      "outputs": [
        {
          "output_type": "stream",
          "name": "stdout",
          "text": [
            "pink\n",
            "Reversed list:  ['pink', 'blue', 'green', 'yellow', 'red']\n"
          ]
        }
      ]
    },
    {
      "cell_type": "markdown",
      "source": [
        "#Code 3\n"
      ],
      "metadata": {
        "id": "-6_Srsjhgqov"
      }
    },
    {
      "cell_type": "code",
      "source": [
        "def code3(*words):\n",
        "  size = max(len(word) for word in words)\n",
        "  print('*' * (size + 4))\n",
        "  for word in words:\n",
        "    print('* {:<{}} *'.format(word, size))\n",
        "  print('*' * (size + 4))\n",
        "code3 ('Hello', 'my', 'name', 'is', 'Annya');"
      ],
      "metadata": {
        "colab": {
          "base_uri": "https://localhost:8080/"
        },
        "id": "WNFUbZLbgsQW",
        "outputId": "e65f1ecf-2c13-45b0-f4c9-e7b602e78185"
      },
      "execution_count": 6,
      "outputs": [
        {
          "output_type": "stream",
          "name": "stdout",
          "text": [
            "*********\n",
            "* Hello *\n",
            "* my    *\n",
            "* name  *\n",
            "* is    *\n",
            "* Annya *\n",
            "*********\n"
          ]
        }
      ]
    }
  ]
}